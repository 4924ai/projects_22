{
  "nbformat": 4,
  "nbformat_minor": 0,
  "metadata": {
    "colab": {
      "private_outputs": true,
      "provenance": []
    },
    "kernelspec": {
      "name": "python3",
      "display_name": "Python 3"
    },
    "language_info": {
      "name": "python"
    }
  },
  "cells": [
    {
      "cell_type": "code",
      "execution_count": null,
      "metadata": {
        "id": "76VX7LFw6OGx"
      },
      "outputs": [],
      "source": [
        "import torchvision\n",
        "import torchvision.transforms as transforms\n",
        "from torchvision.datasets import CIFAR10\n",
        "from torch.utils.data import DataLoader\n",
        "import numpy as np\n",
        "import matplotlib.pyplot as plt\n",
        "\n",
        "# Load training dataset into a single batch.\n",
        "transform = transforms.Compose([transforms.ToTensor()])\n",
        "trainset = CIFAR10(root='./pt_data', train=True, download=True, transform=transform)\n",
        "trainloader = DataLoader(trainset, batch_size=len(trainset), shuffle=False)\n",
        "data = next(iter(trainloader))\n",
        "\n",
        "# Convert to numpy arrays of correct shape for plotting.\n",
        "train_images = data[0].numpy()\n",
        "train_images = np.moveaxis(train_images, 1, 3)\n",
        "train_labels = data[1].numpy()\n",
        "\n",
        "print('Category: ', train_labels[100])\n",
        "plt.figure(figsize=(1, 1))\n",
        "plt.imshow(train_images[100])\n",
        "plt.show()"
      ]
    }
  ]
}