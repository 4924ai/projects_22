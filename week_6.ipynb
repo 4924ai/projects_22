{
  "nbformat": 4,
  "nbformat_minor": 0,
  "metadata": {
    "colab": {
      "private_outputs": true,
      "provenance": []
    },
    "kernelspec": {
      "name": "python3",
      "display_name": "Python 3"
    },
    "language_info": {
      "name": "python"
    }
  },
  "cells": [
    {
      "cell_type": "code",
      "execution_count": null,
      "metadata": {
        "id": "x_kcRbzEG2iN"
      },
      "outputs": [],
      "source": [
        "%load_ext tensorboard"
      ]
    },
    {
      "cell_type": "code",
      "source": [
        "import tensorflow as tf\n",
        "import datetime\n",
        "import matplotlib.pyplot as plt\n",
        "import os\n",
        "import numpy as np\n",
        "%matplotlib inline"
      ],
      "metadata": {
        "id": "vXH7ltanG82a"
      },
      "execution_count": null,
      "outputs": []
    },
    {
      "cell_type": "code",
      "source": [
        "fashion_mnist = tf.keras.datasets.mnist\n",
        "\n",
        "(x_train, y_train), (x_test, y_test) = fashion_mnist.load_data()\n",
        "x_train, x_test = x_train / 255.0, x_test / 255.0"
      ],
      "metadata": {
        "id": "d9b-CDKkHTyt"
      },
      "execution_count": null,
      "outputs": []
    },
    {
      "cell_type": "code",
      "source": [
        "def create_model():\n",
        "  return tf.keras.models.Sequential([\n",
        "  tf.keras.layers.Flatten(input_shape=(28, 28)),\n",
        "  tf.keras.layers.Dense(512, activation='relu'),\n",
        "  tf.keras.layers.Dropout(0.2),\n",
        "  tf.keras.layers.Dense(10, activation='softmax') \n",
        "  ])"
      ],
      "metadata": {
        "id": "tQ7R-jpyOaAw"
      },
      "execution_count": null,
      "outputs": []
    },
    {
      "cell_type": "code",
      "source": [
        "model = create_model()\n",
        "model.compile(optimizer='adam',\n",
        "            loss='space_categorical_crossentropy',\n",
        "            metrics=['accuracy'])\n",
        "logdir = os.path.join(\"logs\", datetime.datetime.now().strftime(\"%Y%m%d-%H%M%S\"))\n",
        "tensorboard_callback = tf.keras.callbacks.TensorBoard(logdir, histogram_freq=1)\n",
        "\n",
        "model.fit(x=x_train,\n",
        "        y=y_train,\n",
        "        epochs=5,\n",
        "        validation_data=(x_test, y_test),\n",
        "        callbacks=[tensorboard_callback])"
      ],
      "metadata": {
        "id": "Xdnrq0_zPucp"
      },
      "execution_count": null,
      "outputs": []
    },
    {
      "cell_type": "code",
      "source": [
        "%tensorboard --logdir logs"
      ],
      "metadata": {
        "id": "5-12HF6WSgSK"
      },
      "execution_count": null,
      "outputs": []
    },
    {
      "cell_type": "code",
      "source": [
        "predicted=np.argmax(model.predict(x_test[0].reshape(-1,28,28)))\n",
        "ground_truth=y_test[0]\n",
        "\n",
        "plt.imshow(x_test[0])\n",
        "plt.title('ground_truth: {} || predicted : {}'.format(ground_truth,predicted))"
      ],
      "metadata": {
        "id": "BkmnVPNuTDJ4"
      },
      "execution_count": null,
      "outputs": []
    }
  ]
}