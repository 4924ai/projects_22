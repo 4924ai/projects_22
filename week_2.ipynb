{
  "nbformat": 4,
  "nbformat_minor": 0,
  "metadata": {
    "colab": {
      "private_outputs": true,
      "provenance": []
    },
    "kernelspec": {
      "name": "python3",
      "display_name": "Python 3"
    },
    "language_info": {
      "name": "python"
    },
    "accelerator": "GPU"
  },
  "cells": [
    {
      "cell_type": "code",
      "execution_count": null,
      "metadata": {
        "id": "YrvLSu_5sh--"
      },
      "outputs": [],
      "source": [
        "!pip install -q keras"
      ]
    },
    {
      "cell_type": "code",
      "source": [
        "# install dependencies\n",
        "!pip install kaggle"
      ],
      "metadata": {
        "id": "nDJ3fZtq6WS7"
      },
      "execution_count": null,
      "outputs": []
    },
    {
      "cell_type": "code",
      "source": [
        "import pandas as pd\n",
        "from google.colab import files\n",
        "files.upload()"
      ],
      "metadata": {
        "id": "Cqdlsr-b6jxn"
      },
      "execution_count": null,
      "outputs": []
    },
    {
      "cell_type": "code",
      "source": [
        "!mkdir -p ~/.kaggle/\n",
        "!cp kaggle.json ~/.kaggle/\n",
        "\n",
        "#This permissions change avoids a warning on Kaggle tool startup.\n",
        "!chmod 600 ~/.kaggle/kaggle.json"
      ],
      "metadata": {
        "id": "yuRE-_-T9HbR"
      },
      "execution_count": null,
      "outputs": []
    },
    {
      "cell_type": "code",
      "source": [
        "from google.colab import drive\n",
        "drive.mount('/content/drive')"
      ],
      "metadata": {
        "id": "x0ESZxAG_KPb"
      },
      "execution_count": null,
      "outputs": []
    },
    {
      "cell_type": "code",
      "source": [
        "!kaggle datasets download -d oddrationale/mnist-in-csv"
      ],
      "metadata": {
        "id": "UwTm7_Jx__w3"
      },
      "execution_count": null,
      "outputs": []
    },
    {
      "cell_type": "code",
      "source": [
        "!unzip mnist-in-csv.zip && rm mnist-in-csv.zip"
      ],
      "metadata": {
        "id": "DavfrEMpATtp"
      },
      "execution_count": null,
      "outputs": []
    },
    {
      "cell_type": "code",
      "source": [
        "df = pd.read_csv('/content/mnist_test.csv')\n",
        "df.head()"
      ],
      "metadata": {
        "id": "QZBlykwJAix9"
      },
      "execution_count": null,
      "outputs": []
    },
    {
      "cell_type": "code",
      "source": [
        "!pwd"
      ],
      "metadata": {
        "id": "VBjRi22dDNGB"
      },
      "execution_count": null,
      "outputs": []
    },
    {
      "cell_type": "code",
      "source": [
        "!mkdir my_project"
      ],
      "metadata": {
        "id": "qxd6_jrfF6kQ"
      },
      "execution_count": null,
      "outputs": []
    },
    {
      "cell_type": "code",
      "source": [
        "def state(b):\n",
        "  x = 5*b+4\n",
        "  print(x)"
      ],
      "metadata": {
        "id": "zAohsKrJF_WT"
      },
      "execution_count": null,
      "outputs": []
    },
    {
      "cell_type": "code",
      "source": [
        "state(8)"
      ],
      "metadata": {
        "id": "EwxBZnVUGJ0y"
      },
      "execution_count": null,
      "outputs": []
    },
    {
      "cell_type": "code",
      "source": [
        "cd my_project/"
      ],
      "metadata": {
        "id": "fqylVuLFGPyR"
      },
      "execution_count": null,
      "outputs": []
    },
    {
      "cell_type": "code",
      "source": [
        "from google.colab import files\n",
        "upload = files.upload()"
      ],
      "metadata": {
        "id": "Z_o6waqFGTUJ"
      },
      "execution_count": null,
      "outputs": []
    }
  ]
}