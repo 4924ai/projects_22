{
  "nbformat": 4,
  "nbformat_minor": 0,
  "metadata": {
    "colab": {
      "private_outputs": true,
      "provenance": []
    },
    "kernelspec": {
      "name": "python3",
      "display_name": "Python 3"
    },
    "language_info": {
      "name": "python"
    },
    "accelerator": "GPU"
  },
  "cells": [
    {
      "cell_type": "code",
      "execution_count": null,
      "metadata": {
        "id": "0GygbeI9CPAs"
      },
      "outputs": [],
      "source": [
        "pip install tensorflow==1.15.5"
      ]
    },
    {
      "cell_type": "code",
      "source": [
        "import numpy as np\n",
        "import tensorflow as tf\n",
        "\n",
        "a = tf.constant(3)\n",
        "b = tf.constant(5)\n",
        "\n",
        "c = a + b\n",
        "\n",
        "#invoke the session so that computational graph wil be executed\n",
        "with tf.Session() as sess:\n",
        "  var1 = sess.run(c)\n",
        "  print(var1)"
      ],
      "metadata": {
        "id": "vIwPo5duCbrp"
      },
      "execution_count": null,
      "outputs": []
    },
    {
      "cell_type": "code",
      "source": [
        "a = tf.Variable(0, name = 'input')\n",
        "b = tf.constant(1)\n",
        "\n",
        "mid_value = tf.add(a, b)\n",
        "update_value = tf.assign(a, mid_value)\n",
        "\n",
        "tg = tf.initialize_all_variables()\n",
        "\n",
        "with tf.Session() as sess:\n",
        "  sess.run(tg)\n",
        "  print(sess.run(a))\n",
        "\n",
        "  for i in range(3):\n",
        "    sess.run(update_value)\n",
        "    print(sess.run(a))"
      ],
      "metadata": {
        "id": "ep7owAfGCtwQ"
      },
      "execution_count": null,
      "outputs": []
    },
    {
      "cell_type": "code",
      "source": [
        "x = tf.placeholder(\"float32\", None)\n",
        "y = x**2\n",
        "\n",
        "with tf.Session() as sess:\n",
        "  result = sess.run(y, feed_dict = {x:[1,2,3]})\n",
        "  print(result)"
      ],
      "metadata": {
        "id": "6xdymbtaCxG4"
      },
      "execution_count": null,
      "outputs": []
    },
    {
      "cell_type": "code",
      "source": [
        "import tensorflow as tf\n",
        "a=tf.add(1,2, name=\"addition_1\")\n",
        "b=tf.multiply(a, 3, name=\"multiplying_1\")\n",
        "c=tf.add(4, 5, name=\"addition_2\")\n",
        "d=tf.multiply(c, 6, name=\"multiplying_2\")\n",
        "e=tf.multiply(4, 5)\n",
        "f=tf.div(c, 6, name=\"division\")\n",
        "\n",
        "g=tf.add(b, d)\n",
        "h=tf.multiply(g, f)\n",
        "\n",
        "with tf.compat.v1.Session() as sess:\n",
        "  writer=tf.summary.FileWriter(\"./logs\", sess.graph)\n",
        "  print(sess.run(h))\n",
        "  writer.close()"
      ],
      "metadata": {
        "id": "WLZwanxFDIMw"
      },
      "execution_count": null,
      "outputs": []
    },
    {
      "cell_type": "code",
      "source": [
        "import tensorflow as tf\n",
        "tf.reset_default_graph()\n",
        "s_scalar=tf.get_variable(name='x_scalar', shape=[], initializer=tf.truncated_normal_initializer(mean=0, stddev=1))\n",
        "first_summary=tf.summary.scalar(name='First_summary', tensor=s_scalar)\n",
        "init=tf.global_variables_initializer()\n",
        "with tf.Session() as sess:\n",
        "  writer=tf.summary.FileWriter('./logs', sess.graph)\n",
        "\n",
        "  for i in range(100):\n",
        "    sess.run(init)\n",
        "    summary=sess.run(first_summary)\n",
        "    writer.add_summary(summary, i)"
      ],
      "metadata": {
        "id": "jpsagITKDQdh"
      },
      "execution_count": null,
      "outputs": []
    },
    {
      "cell_type": "code",
      "source": [
        "import tensorflow as tf\n",
        "tf.reset_default_graph()\n",
        "s_scalar=tf.get_variable(name='x_scalar', shape=[], initializer=tf.truncated_normal_initializer(mean=0, stddev=1))\n",
        "y_matrix=tf.get_variable(name='y_matrix', shape=[40, 50], initializer=tf.truncated_normal_initializer(mean=0, stddev=1))\n",
        "\n",
        "first_summary=tf.summary.scalar(name='First_summary', tensor=s_scalar)\n",
        "\n",
        "histogram_summary=tf.summary.histogram('histogram_summary', y_matrix)\n",
        "\n",
        "init=tf.global_variables_initializer()\n",
        "with tf.Session() as sess:\n",
        "  writer=tf.summary.FileWriter('./logs', sess.graph)\n",
        "\n",
        "  for i in range(100):\n",
        "    sess.run(init)\n",
        "    summary1, summary2=sess.run([first_summary, histogram_summary])\n",
        "    writer.add_summary(summary1, i)\n",
        "    writer.add_summary(summary2, i)"
      ],
      "metadata": {
        "id": "QOQhpYRgDTJJ"
      },
      "execution_count": null,
      "outputs": []
    }
  ]
}